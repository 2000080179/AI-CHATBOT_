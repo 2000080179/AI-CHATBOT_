{
 "cells": [
  {
   "cell_type": "code",
   "execution_count": 3,
   "id": "f1d9fb12",
   "metadata": {},
   "outputs": [],
   "source": [
    "import numpy as np\n",
    "import time\n",
    "import os\n",
    "from transformers import AutoModelForCausalLM, AutoTokenizer\n",
    "import torch"
   ]
  },
  {
   "cell_type": "code",
   "execution_count": 4,
   "id": "d680438b",
   "metadata": {},
   "outputs": [
    {
     "data": {
      "application/vnd.jupyter.widget-view+json": {
       "model_id": "3afa6ac5dfc642f8b8757407178a75a8",
       "version_major": 2,
       "version_minor": 0
      },
      "text/plain": [
       "Downloading:   0%|          | 0.00/26.0 [00:00<?, ?B/s]"
      ]
     },
     "metadata": {},
     "output_type": "display_data"
    },
    {
     "data": {
      "application/vnd.jupyter.widget-view+json": {
       "model_id": "6210f21a773145eca8fb66fccd45bb3c",
       "version_major": 2,
       "version_minor": 0
      },
      "text/plain": [
       "Downloading:   0%|          | 0.00/642 [00:00<?, ?B/s]"
      ]
     },
     "metadata": {},
     "output_type": "display_data"
    },
    {
     "data": {
      "application/vnd.jupyter.widget-view+json": {
       "model_id": "fbb544d80c8e4af8974cf8a4a45b8ee1",
       "version_major": 2,
       "version_minor": 0
      },
      "text/plain": [
       "Downloading:   0%|          | 0.00/0.99M [00:00<?, ?B/s]"
      ]
     },
     "metadata": {},
     "output_type": "display_data"
    },
    {
     "data": {
      "application/vnd.jupyter.widget-view+json": {
       "model_id": "1001e0bbbc6d41c681b19d860cac19b4",
       "version_major": 2,
       "version_minor": 0
      },
      "text/plain": [
       "Downloading:   0%|          | 0.00/446k [00:00<?, ?B/s]"
      ]
     },
     "metadata": {},
     "output_type": "display_data"
    },
    {
     "data": {
      "application/vnd.jupyter.widget-view+json": {
       "model_id": "e726e0b5870f490db02190b018696382",
       "version_major": 2,
       "version_minor": 0
      },
      "text/plain": [
       "Downloading:   0%|          | 0.00/823M [00:00<?, ?B/s]"
      ]
     },
     "metadata": {},
     "output_type": "display_data"
    }
   ],
   "source": [
    "checkpoint = \"microsoft/DialoGPT-medium\"\n",
    "# download and cache tokenizer\n",
    "tokenizer = AutoTokenizer.from_pretrained(checkpoint)\n",
    "# download and cache pre-trained model\n",
    "model = AutoModelForCausalLM.from_pretrained(checkpoint)"
   ]
  },
  {
   "cell_type": "code",
   "execution_count": 5,
   "id": "092bdc47",
   "metadata": {},
   "outputs": [],
   "source": [
    "# Build a ChatBot class with all necessary modules to make a complete conversation\n",
    "class ChatBot():\n",
    "    # initialize\n",
    "    def __init__(self):\n",
    "        # once chat starts, the history will be stored for chat continuity\n",
    "        self.chat_history_ids = None\n",
    "        # make input ids global to use them anywhere within the object\n",
    "        self.bot_input_ids = None\n",
    "        # a flag to check whether to end the conversation\n",
    "        self.end_chat = False\n",
    "        # greet while starting\n",
    "        self.welcome()\n",
    "        \n",
    "    def welcome(self):\n",
    "        print(\"Initializing ChatBot ...\")\n",
    "        # some time to get user ready\n",
    "        time.sleep(2)\n",
    "        print('Type \"bye\" or \"quit\" or \"exit\" to end chat \\n')\n",
    "        # give time to read what has been printed\n",
    "        time.sleep(3)\n",
    "        # Greet and introduce\n",
    "        greeting = np.random.choice([\n",
    "            \"Welcome, I am ChatBot, here for your kind service\",\n",
    "            \"Hey, Great day! I am your virtual assistant\",\n",
    "            \"Hello, it's my pleasure meeting you\",\n",
    "            \"Hi, I am a ChatBot. Let's chat!\"\n",
    "        ])\n",
    "        print(\"ChatBot >>  \" + greeting)\n",
    "        \n",
    "    def user_input(self):\n",
    "        # receive input from user\n",
    "        text = input(\"User    >> \")\n",
    "        # end conversation if user wishes so\n",
    "        if text.lower().strip() in ['bye', 'quit', 'exit']:\n",
    "            # turn flag on \n",
    "            self.end_chat=True\n",
    "            # a closing comment\n",
    "            print('ChatBot >>  See you soon! Bye!')\n",
    "            time.sleep(1)\n",
    "            print('\\nQuitting ChatBot ...')\n",
    "        else:\n",
    "            # continue chat, preprocess input text\n",
    "            # encode the new user input, add the eos_token and return a tensor in Pytorch\n",
    "            self.new_user_input_ids = tokenizer.encode(text + tokenizer.eos_token, \\\n",
    "                                                       return_tensors='pt')\n",
    "\n",
    "    def bot_response(self):\n",
    "        # append the new user input tokens to the chat history\n",
    "        # if chat has already begun\n",
    "        if self.chat_history_ids is not None:\n",
    "            self.bot_input_ids = torch.cat([self.chat_history_ids, self.new_user_input_ids], dim=-1) \n",
    "        else:\n",
    "            # if first entry, initialize bot_input_ids\n",
    "            self.bot_input_ids = self.new_user_input_ids\n",
    "        \n",
    "        # define the new chat_history_ids based on the preceding chats\n",
    "        # generated a response while limiting the total chat history to 1000 tokens, \n",
    "        self.chat_history_ids = model.generate(self.bot_input_ids, max_length=1000, \\\n",
    "                                               pad_token_id=tokenizer.eos_token_id)\n",
    "            \n",
    "        # last ouput tokens from bot\n",
    "        response = tokenizer.decode(self.chat_history_ids[:, self.bot_input_ids.shape[-1]:][0], \\\n",
    "                               skip_special_tokens=True)\n",
    "        # in case, bot fails to answer\n",
    "        if response == \"\":\n",
    "            response = self.random_response()\n",
    "        # print bot response\n",
    "        print('ChatBot >>  '+ response)\n",
    "        \n",
    "    # in case there is no response from model\n",
    "    def random_response(self):\n",
    "        i = -1\n",
    "        response = tokenizer.decode(self.chat_history_ids[:, self.bot_input_ids.shape[i]:][0], \\\n",
    "                               skip_special_tokens=True)\n",
    "        # iterate over history backwards to find the last token\n",
    "        while response == '':\n",
    "            i = i-1\n",
    "            response = tokenizer.decode(self.chat_history_ids[:, self.bot_input_ids.shape[i]:][0], \\\n",
    "                               skip_special_tokens=True)\n",
    "        # if it is a question, answer suitably\n",
    "        if response.strip() == '?':\n",
    "            reply = np.random.choice([\"I don't know\", \n",
    "                                     \"I am not sure\"])\n",
    "        # not a question? answer suitably\n",
    "        else:\n",
    "            reply = np.random.choice([\"Great\", \n",
    "                                      \"Fine. What's up?\", \n",
    "                                      \"Okay\"\n",
    "                                     ])\n",
    "        return reply"
   ]
  },
  {
   "cell_type": "code",
   "execution_count": 6,
   "id": "c1965a35",
   "metadata": {},
   "outputs": [
    {
     "name": "stdout",
     "output_type": "stream",
     "text": [
      "Initializing ChatBot ...\n",
      "Type \"bye\" or \"quit\" or \"exit\" to end chat \n",
      "\n",
      "ChatBot >>  Hello, it's my pleasure meeting you\n",
      "User    >> hi\n",
      "ChatBot >>  Hey! :D\n",
      "User    >> what is the time.\n",
      "ChatBot >>  I'm not sure, but I think it's around 7:30 pm.\n",
      "User    >> no change it to 12:27\n",
      "ChatBot >>  I'm not sure, but I think it's around 12:27 pm.\n",
      "User    >> no change it to 11:28 pm\n",
      "ChatBot >>  I'm not sure, but I think it's around 11:28 pm.\n",
      "User    >> yeah! good\n",
      "ChatBot >>  I'm not sure, but I think it's around 11:28 pm.\n",
      "User    >> can u write a code for hello world in python\n",
      "ChatBot >>  I'm not sure, but I think it's around 11:30\n",
      "User    >> ok then \n",
      "ChatBot >>  Great\n",
      "User    >> what is your name\n",
      "ChatBot >>  Okay\n",
      "User    >> mental what is your name\n",
      "ChatBot >>  Okay\n",
      "User    >> not okey\n",
      "ChatBot >>  Okay\n",
      "User    >> bye\n",
      "ChatBot >>  See you soon! Bye!\n",
      "\n",
      "Quitting ChatBot ...\n"
     ]
    }
   ],
   "source": [
    "# build a ChatBot object\n",
    "bot = ChatBot()\n",
    "# start chatting\n",
    "while True:\n",
    "    # receive user input\n",
    "    bot.user_input()\n",
    "    # check whether to end chat\n",
    "    if bot.end_chat:\n",
    "        break\n",
    "    # output bot response\n",
    "    bot.bot_response() "
   ]
  },
  {
   "cell_type": "code",
   "execution_count": null,
   "id": "50ff4ef9",
   "metadata": {},
   "outputs": [],
   "source": [
    "\n"
   ]
  }
 ],
 "metadata": {
  "kernelspec": {
   "display_name": "Python 3 (ipykernel)",
   "language": "python",
   "name": "python3"
  },
  "language_info": {
   "codemirror_mode": {
    "name": "ipython",
    "version": 3
   },
   "file_extension": ".py",
   "mimetype": "text/x-python",
   "name": "python",
   "nbconvert_exporter": "python",
   "pygments_lexer": "ipython3",
   "version": "3.9.7"
  }
 },
 "nbformat": 4,
 "nbformat_minor": 5
}
